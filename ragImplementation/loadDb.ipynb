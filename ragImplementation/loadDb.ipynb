{
 "cells": [
  {
   "cell_type": "code",
   "execution_count": 1,
   "metadata": {},
   "outputs": [],
   "source": [
    "from pymilvus import MilvusClient, Collection, utility, connections\n",
    "\n",
    "from pymilvus import connections, db, FieldSchema, CollectionSchema, DataType"
   ]
  },
  {
   "cell_type": "code",
   "execution_count": 5,
   "metadata": {},
   "outputs": [],
   "source": [
    "connection = connections.connect(host=\"127.0.0.1\", port=19530)\n",
    "dbName = \"Profspective\"\n",
    "\n",
    "# #Delete The Database\n",
    "# existingDb = db.list_database()\n",
    "# if(dbName in existingDb):\n",
    "#     db.drop_database(dbName)\n",
    " \n",
    "existingDb = db.list_database()\n",
    "\n",
    "if(dbName in existingDb):\n",
    "    db.using_database(dbName)\n",
    "else:\n",
    "    db.create_database(dbName)"
   ]
  },
  {
   "cell_type": "code",
   "execution_count": 9,
   "metadata": {},
   "outputs": [],
   "source": [
    "DIMENSIONS = 768\n",
    "MAX_STRING_LENGTH = 500\n",
    "\n",
    "fields = [\n",
    "\tFieldSchema(name = \"id\", dtype= DataType.INT64, is_primary = True, auto_id = True, description = \"Id\"),\n",
    " \tFieldSchema(name = \"embedding\", dtype=DataType.FLOAT_VECTOR, dim = DIMENSIONS, description = \"Embeddings\"),\n",
    "  \tFieldSchema(name=\"professor\", dtype=DataType.VARCHAR, max_length=MAX_STRING_LENGTH, description = \"Prof Name\"),\n",
    "    FieldSchema(name=\"review\", dtype=DataType.VARCHAR, max_length=MAX_STRING_LENGTH, default_value = \"\" , description = \"Prof Reivew\"),\n",
    "    FieldSchema(name=\"stars\", dtype=DataType.INT8, default_value = 5, description = \"Prof Stars\"),\n",
    "]\n",
    "\n",
    "schema = CollectionSchema(fields = fields, enable_dynamic_field = True, description=\"Schema For Professor Review\")"
   ]
  },
  {
   "cell_type": "code",
   "execution_count": 57,
   "metadata": {},
   "outputs": [],
   "source": [
    "# '''Used to Clear the Collection (deletes collection and all data)'''\n",
    "\n",
    "# if utility.has_collection(\"Profspective\"):\n",
    "# \tcollection = Collection(name=\"Profspective\")\n",
    "# \tcollection.drop()"
   ]
  },
  {
   "cell_type": "code",
   "execution_count": null,
   "metadata": {},
   "outputs": [],
   "source": [
    "collectionName = \"Profspective\"\n",
    "\n",
    "if(client.has_collection(collectionName)):\n",
    "    print(\"collection already exists\")\n",
    "else:\n",
    "    client.create_collection(\n",
    "\t\tcollection_name= collectionName,\n",
    "    \tdimension=768\n",
    "\t)"
   ]
  },
  {
   "cell_type": "code",
   "execution_count": null,
   "metadata": {},
   "outputs": [],
   "source": [
    "schema = client.create_schema(\n",
    "    auto_id=True,\n",
    "    enable_dynamic_field=True,\n",
    ")\n",
    "\n",
    "schema.add_field()"
   ]
  },
  {
   "cell_type": "code",
   "execution_count": 58,
   "metadata": {},
   "outputs": [],
   "source": [
    "DIMENSION = 384\n",
    "MAX_STRING_LENGTH = 500\n",
    "\n",
    "fields = [\n",
    "\tFieldSchema(name = \"id\", dtype= DataType.INT64, is_primary = True),\n",
    " \tFieldSchema(name = \"embedding\", dtype=DataType.FLOAT_VECTOR, dim = DIMENSION),\n",
    "  \tFieldSchema(name=\"professor\", dtype=DataType.VARCHAR, max_length=MAX_STRING_LENGTH),\n",
    "    FieldSchema(name=\"review\", dtype=DataType.VARCHAR, max_length=MAX_STRING_LENGTH),\n",
    "    FieldSchema(name=\"stars\", dtype=DataType.INT8),\n",
    "]\n",
    "\n",
    "schema = CollectionSchema(fields = fields, enable_dynamic_field = True)"
   ]
  },
  {
   "cell_type": "code",
   "execution_count": 59,
   "metadata": {},
   "outputs": [],
   "source": [
    "if utility.has_collection(\"Profspective\"):\n",
    "    collection = Collection(name=\"Profspective\")  #Prevent changing schema's if collection alr exists\n",
    "else:\n",
    "\tcollection = Collection(name= \"Profspective\", schema=schema)"
   ]
  },
  {
   "cell_type": "code",
   "execution_count": 60,
   "metadata": {},
   "outputs": [],
   "source": [
    "index_params = {\n",
    "\t\"index_type\": \"IVF_FLAT\",\n",
    " \t\"metric_type\": \"L2\",\n",
    " \t\"params\": {\"nlist\": 50},\n",
    "}\n",
    "\n",
    "# '''Add if getting \"cannot have more than 1 distinct index per field\" (happens when changes to index_param)'''\n",
    "# collection.release()\n",
    "# collection.drop_index()\n",
    "\n",
    "collection.create_index(field_name=\"embedding\", index_params=index_params,)\n",
    "collection.load()"
   ]
  },
  {
   "cell_type": "code",
   "execution_count": 61,
   "metadata": {},
   "outputs": [],
   "source": [
    "from sentence_transformers import SentenceTransformer\n",
    "\n",
    "embedder = SentenceTransformer(\"all-MiniLM-L6-v2\", 'Xenova/all-MiniLM-L6-v2');"
   ]
  },
  {
   "cell_type": "code",
   "execution_count": 62,
   "metadata": {},
   "outputs": [],
   "source": [
    "def reviewExists(professor, review, subject, stars):\n",
    "    query = f'professor == \"{professor}\" && review == \"{review}\" && subject == \"{subject}\" && stars == {stars}'\n",
    "    results = collection.query(query, output_fields=[\"id\"])\n",
    "    \n",
    "    return len(results) > 0"
   ]
  },
  {
   "cell_type": "code",
   "execution_count": 63,
   "metadata": {},
   "outputs": [],
   "source": [
    "def validateProfData(profData):\n",
    "    requiredField = [\"professor\", \"review\", \"subject\", \"stars\"]\n",
    "    \n",
    "    for field in requiredField:\n",
    "        if field not in profData:\n",
    "            raise Exception(f'Missing Field in Prof Data \"{field}\"')"
   ]
  },
  {
   "cell_type": "code",
   "execution_count": 64,
   "metadata": {},
   "outputs": [
    {
     "name": "stdout",
     "output_type": "stream",
     "text": [
      "Review Already Exists in Vector Database\n",
      "Review Already Exists in Vector Database\n",
      "Review Already Exists in Vector Database\n",
      "Review Already Exists in Vector Database\n",
      "Review Already Exists in Vector Database\n",
      "Review Already Exists in Vector Database\n",
      "Review Already Exists in Vector Database\n",
      "Review Already Exists in Vector Database\n",
      "Review Already Exists in Vector Database\n",
      "Review Already Exists in Vector Database\n",
      "Review Already Exists in Vector Database\n",
      "Review Already Exists in Vector Database\n",
      "Review Already Exists in Vector Database\n",
      "Review Already Exists in Vector Database\n",
      "Review Already Exists in Vector Database\n",
      "Review Already Exists in Vector Database\n",
      "Review Already Exists in Vector Database\n",
      "Review Already Exists in Vector Database\n",
      "Review Already Exists in Vector Database\n",
      "Review Already Exists in Vector Database\n",
      "Review Already Exists in Vector Database\n",
      "Review Already Exists in Vector Database\n",
      "Review Already Exists in Vector Database\n",
      "Review Already Exists in Vector Database\n",
      "Review Already Exists in Vector Database\n",
      "Nothing to Add\n"
     ]
    }
   ],
   "source": [
    "import json\n",
    "\n",
    "jsonData = json.load(open(\"../review.json\"))\n",
    "reviews = jsonData[\"reviews\"]\n",
    "\n",
    "insertDb = []\n",
    "\n",
    "for profData in reviews:\n",
    "    validateProfData(profData)\n",
    "    \n",
    "    if(reviewExists(profData[\"professor\"], profData[\"review\"], profData[\"subject\"], profData[\"stars\"])):\n",
    "        print(\"Review Already Exists in Vector Database\")\n",
    "        continue\n",
    "    \n",
    "    entry = profData.copy()\n",
    "    \n",
    "    reviewEmbedding = embedder.encode(profData[\"review\"])\n",
    "    print(len(reviewEmbedding))\n",
    "    \n",
    "    entry[\"embedding\"] = reviewEmbedding\n",
    "    \n",
    "    insertDb.append(entry)\n",
    "    \n",
    "if(insertDb):\n",
    "    output = collection.insert(insertDb)\n",
    "    print(output)\n",
    "else:\n",
    "    print(\"Nothing to Add\")"
   ]
  },
  {
   "cell_type": "code",
   "execution_count": 65,
   "metadata": {},
   "outputs": [],
   "source": [
    "collection.flush()"
   ]
  },
  {
   "cell_type": "code",
   "execution_count": 66,
   "metadata": {},
   "outputs": [
    {
     "name": "stdout",
     "output_type": "stream",
     "text": [
      "Vector Count = 25\n"
     ]
    }
   ],
   "source": [
    "vector_count = collection.num_entities\n",
    "print(f'Vector Count = {vector_count}')"
   ]
  }
 ],
 "metadata": {
  "kernelspec": {
   "display_name": "venv",
   "language": "python",
   "name": "python3"
  },
  "language_info": {
   "codemirror_mode": {
    "name": "ipython",
    "version": 3
   },
   "file_extension": ".py",
   "mimetype": "text/x-python",
   "name": "python",
   "nbconvert_exporter": "python",
   "pygments_lexer": "ipython3",
   "version": "3.12.5"
  }
 },
 "nbformat": 4,
 "nbformat_minor": 2
}
