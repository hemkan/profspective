{
 "cells": [
  {
   "cell_type": "code",
   "execution_count": 17,
   "metadata": {},
   "outputs": [],
   "source": [
    "from milvus import default_server\n",
    "from pymilvus import FieldSchema, CollectionSchema, DataType, Collection, utility, connections"
   ]
  },
  {
   "cell_type": "code",
   "execution_count": 18,
   "metadata": {},
   "outputs": [],
   "source": [
    "default_server.start()"
   ]
  },
  {
   "cell_type": "code",
   "execution_count": 19,
   "metadata": {},
   "outputs": [],
   "source": [
    "connections.connect(\n",
    "    host = \"127.0.0.1\",\n",
    "    port= default_server.listen_port\n",
    ")"
   ]
  },
  {
   "cell_type": "code",
   "execution_count": 20,
   "metadata": {},
   "outputs": [],
   "source": [
    "# '''Used to Clear the Collection (deletes collection and all data)'''\n",
    "\n",
    "# collection = Collection(name=\"Profspective\")\n",
    "# collection.drop()"
   ]
  },
  {
   "cell_type": "code",
   "execution_count": 21,
   "metadata": {},
   "outputs": [],
   "source": [
    "DIMENSION = 384\n",
    "MAX_STRING_LENGTH = 500\n",
    "\n",
    "fields = [\n",
    "\tFieldSchema(name = \"id\", dtype= DataType.INT64, is_primary = True, auto_id = True),\n",
    " \tFieldSchema(name = \"embedding\", dtype=DataType.FLOAT_VECTOR, dim = DIMENSION),\n",
    "  \tFieldSchema(name=\"professor\", dtype=DataType.VARCHAR, max_length=MAX_STRING_LENGTH),\n",
    "    FieldSchema(name=\"review\", dtype=DataType.VARCHAR, max_length=MAX_STRING_LENGTH),\n",
    "    FieldSchema(name=\"stars\", dtype=DataType.INT8),\n",
    "]\n",
    "\n",
    "schema = CollectionSchema(fields = fields, enable_dynamic_field = True)"
   ]
  },
  {
   "cell_type": "code",
   "execution_count": 22,
   "metadata": {},
   "outputs": [],
   "source": [
    "if utility.has_collection(\"Profspective\"):\n",
    "    collection = Collection(name=\"Profspective\")  #Prevent changing schema's if collection alr exists\n",
    "else:\n",
    "\tcollection = Collection(name= \"Profspective\", schema=schema)"
   ]
  },
  {
   "cell_type": "code",
   "execution_count": 23,
   "metadata": {},
   "outputs": [],
   "source": [
    "index_params = {\n",
    "\t\"index_type\": \"IVF_FLAT\",\n",
    " \t\"metric_type\": \"L2\",\n",
    " \t\"params\": {\"nlist\": 50},\n",
    "}\n",
    "\n",
    "# '''Add if getting \"cannot have more than 1 distinct index per field\" (happens when changes to index_param)'''\n",
    "# collection.release()\n",
    "# collection.drop_index()\n",
    "\n",
    "collection.create_index(field_name=\"embedding\", index_params=index_params,)\n",
    "collection.load()"
   ]
  },
  {
   "cell_type": "code",
   "execution_count": 24,
   "metadata": {},
   "outputs": [],
   "source": [
    "from sentence_transformers import SentenceTransformer\n",
    "\n",
    "embedder = SentenceTransformer(\"all-MiniLM-L6-v2\")"
   ]
  },
  {
   "cell_type": "code",
   "execution_count": 25,
   "metadata": {},
   "outputs": [],
   "source": [
    "def reviewExists(professor, review, subject, stars):\n",
    "    query = f'professor == \"{professor}\" && review == \"{review}\" && subject == \"{subject}\" && stars == {stars}'\n",
    "    results = collection.query(query, output_fields=[\"id\"])\n",
    "    \n",
    "    return len(results) > 0"
   ]
  },
  {
   "cell_type": "code",
   "execution_count": 26,
   "metadata": {},
   "outputs": [],
   "source": [
    "def validateProfData(profData):\n",
    "    requiredField = [\"professor\", \"review\", \"subject\", \"stars\"]\n",
    "    \n",
    "    for field in requiredField:\n",
    "        if field not in profData:\n",
    "            raise Exception(f'Missing Field in Prof Data \"{field}\"')"
   ]
  },
  {
   "cell_type": "code",
   "execution_count": 27,
   "metadata": {},
   "outputs": [
    {
     "name": "stdout",
     "output_type": "stream",
     "text": [
      "Review Already Exists in Vector Database\n",
      "Review Already Exists in Vector Database\n",
      "Review Already Exists in Vector Database\n",
      "Review Already Exists in Vector Database\n",
      "Review Already Exists in Vector Database\n",
      "Review Already Exists in Vector Database\n",
      "Review Already Exists in Vector Database\n",
      "Review Already Exists in Vector Database\n",
      "Review Already Exists in Vector Database\n",
      "Review Already Exists in Vector Database\n",
      "Review Already Exists in Vector Database\n",
      "Review Already Exists in Vector Database\n",
      "Review Already Exists in Vector Database\n",
      "Review Already Exists in Vector Database\n",
      "Review Already Exists in Vector Database\n",
      "Review Already Exists in Vector Database\n",
      "Review Already Exists in Vector Database\n",
      "Review Already Exists in Vector Database\n",
      "Review Already Exists in Vector Database\n",
      "Review Already Exists in Vector Database\n",
      "Review Already Exists in Vector Database\n",
      "Review Already Exists in Vector Database\n",
      "Review Already Exists in Vector Database\n",
      "Review Already Exists in Vector Database\n",
      "Review Already Exists in Vector Database\n",
      "Nothing to Add\n"
     ]
    }
   ],
   "source": [
    "import json\n",
    "\n",
    "jsonData = json.load(open(\"../review.json\"))\n",
    "reviews = jsonData[\"reviews\"]\n",
    "\n",
    "insertDb = []\n",
    "\n",
    "for profData in reviews:\n",
    "    validateProfData(profData)\n",
    "    \n",
    "    if(reviewExists(profData[\"professor\"], profData[\"review\"], profData[\"subject\"], profData[\"stars\"])):\n",
    "        print(\"Review Already Exists in Vector Database\")\n",
    "        continue\n",
    "    \n",
    "    entry = profData.copy()\n",
    "    \n",
    "    reviewEmbedding = embedder.encode(profData[\"review\"])\n",
    "    entry[\"embedding\"] = reviewEmbedding\n",
    "    \n",
    "    insertDb.append(entry)\n",
    "    \n",
    "if(insertDb):\n",
    "    output = collection.insert(insertDb)\n",
    "    print(output)\n",
    "else:\n",
    "    print(\"Nothing to Add\")"
   ]
  },
  {
   "cell_type": "code",
   "execution_count": 28,
   "metadata": {},
   "outputs": [],
   "source": [
    "collection.flush()"
   ]
  },
  {
   "cell_type": "code",
   "execution_count": 29,
   "metadata": {},
   "outputs": [
    {
     "name": "stdout",
     "output_type": "stream",
     "text": [
      "Vector Count = 27\n"
     ]
    }
   ],
   "source": [
    "vector_count = collection.num_entities\n",
    "print(f'Vector Count = {vector_count}')"
   ]
  }
 ],
 "metadata": {
  "kernelspec": {
   "display_name": "venv",
   "language": "python",
   "name": "python3"
  },
  "language_info": {
   "codemirror_mode": {
    "name": "ipython",
    "version": 3
   },
   "file_extension": ".py",
   "mimetype": "text/x-python",
   "name": "python",
   "nbconvert_exporter": "python",
   "pygments_lexer": "ipython3",
   "version": "3.12.5"
  }
 },
 "nbformat": 4,
 "nbformat_minor": 2
}
