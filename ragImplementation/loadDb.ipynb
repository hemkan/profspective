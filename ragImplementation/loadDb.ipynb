{
 "cells": [
  {
   "cell_type": "code",
   "execution_count": 16,
   "metadata": {},
   "outputs": [],
   "source": [
    "from pymilvus import FieldSchema, CollectionSchema, DataType, MilvusClient\n",
    "\n",
    "dbName = \"Profspective\"\n",
    "collectionName = \"ProfReview\""
   ]
  },
  {
   "cell_type": "code",
   "execution_count": 17,
   "metadata": {},
   "outputs": [],
   "source": [
    "from dotenv import load_dotenv,  find_dotenv\n",
    "load_dotenv(find_dotenv('.env.local'))\n",
    "import os"
   ]
  },
  {
   "cell_type": "code",
   "execution_count": 18,
   "metadata": {},
   "outputs": [],
   "source": [
    "ENDPOINT = \"https://in03-e01b833309331cb.api.gcp-us-west1.zillizcloud.com\"\n",
    "TOKEN = os.getenv(\"ZILLIZ_API_KEY\")\n",
    "\n",
    "client = MilvusClient(uri=ENDPOINT, token = TOKEN)"
   ]
  },
  {
   "cell_type": "code",
   "execution_count": 19,
   "metadata": {},
   "outputs": [],
   "source": [
    "DIMENSIONS = 384\n",
    "MAX_STRING_LENGTH = 500\n",
    "\n",
    "fields = [\n",
    "\tFieldSchema(name = \"id\", dtype = DataType.INT64, is_primary = True, description = \"Id\"),\n",
    " \tFieldSchema(name = \"embedding\", dtype = DataType.FLOAT_VECTOR, dim = DIMENSIONS, description = \"Embeddings\"),\n",
    "  \tFieldSchema(name = \"professor\", dtype = DataType.VARCHAR, max_length = MAX_STRING_LENGTH, description = \"Prof Name\"),\n",
    "    FieldSchema(name = \"review\", dtype = DataType.VARCHAR, max_length = MAX_STRING_LENGTH, default_value = \"\" , description = \"Prof Reivew\"),\n",
    "    FieldSchema(name = \"stars\", dtype = DataType.INT8, default_value = 5, description = \"Prof Stars\"),\n",
    "]\n",
    "\n",
    "schema = CollectionSchema(fields = fields, enable_dynamic_field = True, auto_id = True, description=\"Schema For Professor Review\")"
   ]
  },
  {
   "cell_type": "code",
   "execution_count": 20,
   "metadata": {},
   "outputs": [],
   "source": [
    "index_params = client.prepare_index_params()\n",
    "\n",
    "index_params.add_index(\n",
    "    field_name = \"embedding\",\n",
    "\tindex_type = \"IVF_FLAT\",\n",
    " \tmetric_type = \"L2\",\n",
    " \tparams = {\"nlist\": 40},\n",
    ")"
   ]
  },
  {
   "cell_type": "code",
   "execution_count": 21,
   "metadata": {},
   "outputs": [],
   "source": [
    "# '''Used to Clear the Collection (deletes collection and all data)'''\n",
    "\n",
    "# if client.has_collection(\"ProfReview\"):\n",
    "#     client.drop_collection(collection_name = \"ProfReview\")"
   ]
  },
  {
   "cell_type": "code",
   "execution_count": 22,
   "metadata": {},
   "outputs": [],
   "source": [
    "def dropIndex():\n",
    "    if(client.has_collection(collectionName)):\n",
    "        fieldName = \"embedding\"\n",
    "        \n",
    "        existingFieldNames = client.list_indexes(collection_name = collectionName)\n",
    "        client.release_collection(collection_name = collectionName)\n",
    "        if(fieldName in existingFieldNames):\n",
    "            client.drop_index(collection_name = collectionName, index_name = fieldName)"
   ]
  },
  {
   "cell_type": "code",
   "execution_count": 23,
   "metadata": {},
   "outputs": [],
   "source": [
    "# # Drop the Index\n",
    "# dropIndex()\n",
    "\n",
    "client.create_collection(collection_name = collectionName, schema = schema, index_params = index_params)"
   ]
  },
  {
   "cell_type": "code",
   "execution_count": 24,
   "metadata": {},
   "outputs": [],
   "source": [
    "from sentence_transformers import SentenceTransformer\n",
    "embedder = SentenceTransformer(\"sentence-transformers/all-MiniLM-L6-v2\")"
   ]
  },
  {
   "cell_type": "code",
   "execution_count": 25,
   "metadata": {},
   "outputs": [],
   "source": [
    "def reviewExists(professor, review, subject, stars):\n",
    "    client.load_collection(collection_name = collectionName)\n",
    "    \n",
    "    queryFilter = f'professor == \"{professor}\" && review == \"{review}\" && subject == \"{subject}\" && stars == {stars}'\n",
    "    result = client.query(collection_name=\"ProfReview\", filter=queryFilter, output_fields=[\"id\"])\n",
    "    \n",
    "    return len(result) > 0"
   ]
  },
  {
   "cell_type": "code",
   "execution_count": 26,
   "metadata": {},
   "outputs": [],
   "source": [
    "def validateProfData(profData):\n",
    "    requiredField = [\"professor\", \"review\", \"subject\", \"stars\"]\n",
    "    \n",
    "    for field in requiredField:\n",
    "        if field not in profData:\n",
    "            raise Exception(f'Missing Field in Prof Data \"{field}\"')"
   ]
  },
  {
   "cell_type": "code",
   "execution_count": 27,
   "metadata": {},
   "outputs": [],
   "source": [
    "import json\n",
    "\n",
    "jsonData = json.load(open(\"../review.json\"))\n",
    "reviews = jsonData[\"reviews\"]"
   ]
  },
  {
   "cell_type": "code",
   "execution_count": 28,
   "metadata": {},
   "outputs": [
    {
     "name": "stdout",
     "output_type": "stream",
     "text": [
      "Review Already Exists in Vector Database\n",
      "Review Already Exists in Vector Database\n",
      "Review Already Exists in Vector Database\n",
      "Review Already Exists in Vector Database\n",
      "Review Already Exists in Vector Database\n",
      "Review Already Exists in Vector Database\n",
      "Review Already Exists in Vector Database\n",
      "Review Already Exists in Vector Database\n",
      "Review Already Exists in Vector Database\n",
      "Review Already Exists in Vector Database\n",
      "Review Already Exists in Vector Database\n",
      "Review Already Exists in Vector Database\n",
      "Review Already Exists in Vector Database\n",
      "Review Already Exists in Vector Database\n",
      "Review Already Exists in Vector Database\n",
      "Review Already Exists in Vector Database\n",
      "Review Already Exists in Vector Database\n",
      "Review Already Exists in Vector Database\n",
      "Review Already Exists in Vector Database\n",
      "Review Already Exists in Vector Database\n",
      "Review Already Exists in Vector Database\n",
      "Review Already Exists in Vector Database\n",
      "Review Already Exists in Vector Database\n",
      "Review Already Exists in Vector Database\n",
      "Review Already Exists in Vector Database\n",
      "Nothing to Add\n"
     ]
    }
   ],
   "source": [
    "insertDb = []\n",
    "\n",
    "for profData in reviews:\n",
    "    validateProfData(profData)\n",
    "    \n",
    "    if(reviewExists(profData[\"professor\"], profData[\"review\"], profData[\"subject\"], profData[\"stars\"])):\n",
    "        print(\"Review Already Exists in Vector Database\")\n",
    "        continue\n",
    "    \n",
    "    entry = profData.copy()\n",
    "    \n",
    "    reviewEmbedding = embedder.encode(profData[\"professor\"] + profData[\"review\"])\n",
    "    \n",
    "    entry[\"embedding\"] = reviewEmbedding\n",
    "    \n",
    "    insertDb.append(entry)\n",
    "    \n",
    "if(insertDb):\n",
    "    output = client.insert(collection_name = collectionName, data = insertDb)\n",
    "    print(output)\n",
    "else:\n",
    "    print(\"Nothing to Add\")"
   ]
  },
  {
   "cell_type": "code",
   "execution_count": 29,
   "metadata": {},
   "outputs": [],
   "source": [
    "client.close()"
   ]
  }
 ],
 "metadata": {
  "kernelspec": {
   "display_name": "venv",
   "language": "python",
   "name": "python3"
  },
  "language_info": {
   "codemirror_mode": {
    "name": "ipython",
    "version": 3
   },
   "file_extension": ".py",
   "mimetype": "text/x-python",
   "name": "python",
   "nbconvert_exporter": "python",
   "pygments_lexer": "ipython3",
   "version": "3.12.4"
  }
 },
 "nbformat": 4,
 "nbformat_minor": 2
}
